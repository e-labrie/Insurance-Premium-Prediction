{
 "cells": [
  {
   "cell_type": "code",
   "execution_count": 1,
   "id": "dfe4deae",
   "metadata": {
    "_cell_guid": "b1076dfc-b9ad-4769-8c92-a6c4dae69d19",
    "_uuid": "8f2839f25d086af736a60e9eeb907d3b93b6e0e5",
    "execution": {
     "iopub.execute_input": "2024-09-21T16:13:55.011503Z",
     "iopub.status.busy": "2024-09-21T16:13:55.011081Z",
     "iopub.status.idle": "2024-09-21T16:13:55.439767Z",
     "shell.execute_reply": "2024-09-21T16:13:55.438226Z"
    },
    "papermill": {
     "duration": 0.440026,
     "end_time": "2024-09-21T16:13:55.442698",
     "exception": false,
     "start_time": "2024-09-21T16:13:55.002672",
     "status": "completed"
    },
    "tags": []
   },
   "outputs": [
    {
     "name": "stdout",
     "output_type": "stream",
     "text": [
      "/kaggle/input/medical-insurance-premium-prediction/Medicalpremium.csv\n"
     ]
    }
   ],
   "source": [
    "# This Python 3 environment comes with many helpful analytics libraries installed\n",
    "# It is defined by the kaggle/python Docker image: https://github.com/kaggle/docker-python\n",
    "# For example, here's several helpful packages to load\n",
    "\n",
    "import numpy as np # linear algebra\n",
    "import pandas as pd # data processing, CSV file I/O (e.g. pd.read_csv)\n",
    "\n",
    "# Input data files are available in the read-only \"../input/\" directory\n",
    "# For example, running this (by clicking run or pressing Shift+Enter) will list all files under the input directory\n",
    "\n",
    "import os\n",
    "for dirname, _, filenames in os.walk('/kaggle/input'):\n",
    "    for filename in filenames:\n",
    "        print(os.path.join(dirname, filename))\n",
    "\n",
    "# You can write up to 20GB to the current directory (/kaggle/working/) that gets preserved as output when you create a version using \"Save & Run All\" \n",
    "# You can also write temporary files to /kaggle/temp/, but they won't be saved outside of the current session"
   ]
  },
  {
   "cell_type": "code",
   "execution_count": 2,
   "id": "7c26e1bb",
   "metadata": {
    "execution": {
     "iopub.execute_input": "2024-09-21T16:13:55.460302Z",
     "iopub.status.busy": "2024-09-21T16:13:55.459776Z",
     "iopub.status.idle": "2024-09-21T16:13:58.081777Z",
     "shell.execute_reply": "2024-09-21T16:13:58.080350Z"
    },
    "papermill": {
     "duration": 2.632346,
     "end_time": "2024-09-21T16:13:58.084372",
     "exception": false,
     "start_time": "2024-09-21T16:13:55.452026",
     "status": "completed"
    },
    "tags": []
   },
   "outputs": [],
   "source": [
    "# importing libraries\n",
    "\n",
    "import pandas as pd\n",
    "\n",
    "import matplotlib.pyplot as plt\n",
    "import seaborn as sns\n",
    "\n",
    "from sklearn.model_selection import train_test_split\n",
    "from sklearn.preprocessing import StandardScaler\n",
    "from sklearn.metrics import classification_report\n",
    "from sklearn.linear_model import LinearRegression,Lasso,Ridge\n",
    "from sklearn.ensemble import RandomForestRegressor\n",
    "\n",
    "from xgboost import XGBRFRegressor"
   ]
  },
  {
   "cell_type": "code",
   "execution_count": 3,
   "id": "18e232bf",
   "metadata": {
    "execution": {
     "iopub.execute_input": "2024-09-21T16:13:58.098535Z",
     "iopub.status.busy": "2024-09-21T16:13:58.097947Z",
     "iopub.status.idle": "2024-09-21T16:13:58.150100Z",
     "shell.execute_reply": "2024-09-21T16:13:58.148977Z"
    },
    "papermill": {
     "duration": 0.061782,
     "end_time": "2024-09-21T16:13:58.152287",
     "exception": false,
     "start_time": "2024-09-21T16:13:58.090505",
     "status": "completed"
    },
    "tags": []
   },
   "outputs": [
    {
     "data": {
      "text/html": [
       "<div>\n",
       "<style scoped>\n",
       "    .dataframe tbody tr th:only-of-type {\n",
       "        vertical-align: middle;\n",
       "    }\n",
       "\n",
       "    .dataframe tbody tr th {\n",
       "        vertical-align: top;\n",
       "    }\n",
       "\n",
       "    .dataframe thead th {\n",
       "        text-align: right;\n",
       "    }\n",
       "</style>\n",
       "<table border=\"1\" class=\"dataframe\">\n",
       "  <thead>\n",
       "    <tr style=\"text-align: right;\">\n",
       "      <th></th>\n",
       "      <th>Age</th>\n",
       "      <th>Diabetes</th>\n",
       "      <th>BloodPressureProblems</th>\n",
       "      <th>AnyTransplants</th>\n",
       "      <th>AnyChronicDiseases</th>\n",
       "      <th>Height</th>\n",
       "      <th>Weight</th>\n",
       "      <th>KnownAllergies</th>\n",
       "      <th>HistoryOfCancerInFamily</th>\n",
       "      <th>NumberOfMajorSurgeries</th>\n",
       "      <th>PremiumPrice</th>\n",
       "    </tr>\n",
       "  </thead>\n",
       "  <tbody>\n",
       "    <tr>\n",
       "      <th>0</th>\n",
       "      <td>45</td>\n",
       "      <td>0</td>\n",
       "      <td>0</td>\n",
       "      <td>0</td>\n",
       "      <td>0</td>\n",
       "      <td>155</td>\n",
       "      <td>57</td>\n",
       "      <td>0</td>\n",
       "      <td>0</td>\n",
       "      <td>0</td>\n",
       "      <td>25000</td>\n",
       "    </tr>\n",
       "    <tr>\n",
       "      <th>1</th>\n",
       "      <td>60</td>\n",
       "      <td>1</td>\n",
       "      <td>0</td>\n",
       "      <td>0</td>\n",
       "      <td>0</td>\n",
       "      <td>180</td>\n",
       "      <td>73</td>\n",
       "      <td>0</td>\n",
       "      <td>0</td>\n",
       "      <td>0</td>\n",
       "      <td>29000</td>\n",
       "    </tr>\n",
       "    <tr>\n",
       "      <th>2</th>\n",
       "      <td>36</td>\n",
       "      <td>1</td>\n",
       "      <td>1</td>\n",
       "      <td>0</td>\n",
       "      <td>0</td>\n",
       "      <td>158</td>\n",
       "      <td>59</td>\n",
       "      <td>0</td>\n",
       "      <td>0</td>\n",
       "      <td>1</td>\n",
       "      <td>23000</td>\n",
       "    </tr>\n",
       "    <tr>\n",
       "      <th>3</th>\n",
       "      <td>52</td>\n",
       "      <td>1</td>\n",
       "      <td>1</td>\n",
       "      <td>0</td>\n",
       "      <td>1</td>\n",
       "      <td>183</td>\n",
       "      <td>93</td>\n",
       "      <td>0</td>\n",
       "      <td>0</td>\n",
       "      <td>2</td>\n",
       "      <td>28000</td>\n",
       "    </tr>\n",
       "    <tr>\n",
       "      <th>4</th>\n",
       "      <td>38</td>\n",
       "      <td>0</td>\n",
       "      <td>0</td>\n",
       "      <td>0</td>\n",
       "      <td>1</td>\n",
       "      <td>166</td>\n",
       "      <td>88</td>\n",
       "      <td>0</td>\n",
       "      <td>0</td>\n",
       "      <td>1</td>\n",
       "      <td>23000</td>\n",
       "    </tr>\n",
       "    <tr>\n",
       "      <th>...</th>\n",
       "      <td>...</td>\n",
       "      <td>...</td>\n",
       "      <td>...</td>\n",
       "      <td>...</td>\n",
       "      <td>...</td>\n",
       "      <td>...</td>\n",
       "      <td>...</td>\n",
       "      <td>...</td>\n",
       "      <td>...</td>\n",
       "      <td>...</td>\n",
       "      <td>...</td>\n",
       "    </tr>\n",
       "    <tr>\n",
       "      <th>981</th>\n",
       "      <td>18</td>\n",
       "      <td>0</td>\n",
       "      <td>0</td>\n",
       "      <td>0</td>\n",
       "      <td>0</td>\n",
       "      <td>169</td>\n",
       "      <td>67</td>\n",
       "      <td>0</td>\n",
       "      <td>0</td>\n",
       "      <td>0</td>\n",
       "      <td>15000</td>\n",
       "    </tr>\n",
       "    <tr>\n",
       "      <th>982</th>\n",
       "      <td>64</td>\n",
       "      <td>1</td>\n",
       "      <td>1</td>\n",
       "      <td>0</td>\n",
       "      <td>0</td>\n",
       "      <td>153</td>\n",
       "      <td>70</td>\n",
       "      <td>0</td>\n",
       "      <td>0</td>\n",
       "      <td>3</td>\n",
       "      <td>28000</td>\n",
       "    </tr>\n",
       "    <tr>\n",
       "      <th>983</th>\n",
       "      <td>56</td>\n",
       "      <td>0</td>\n",
       "      <td>1</td>\n",
       "      <td>0</td>\n",
       "      <td>0</td>\n",
       "      <td>155</td>\n",
       "      <td>71</td>\n",
       "      <td>0</td>\n",
       "      <td>0</td>\n",
       "      <td>1</td>\n",
       "      <td>29000</td>\n",
       "    </tr>\n",
       "    <tr>\n",
       "      <th>984</th>\n",
       "      <td>47</td>\n",
       "      <td>1</td>\n",
       "      <td>1</td>\n",
       "      <td>0</td>\n",
       "      <td>0</td>\n",
       "      <td>158</td>\n",
       "      <td>73</td>\n",
       "      <td>1</td>\n",
       "      <td>0</td>\n",
       "      <td>1</td>\n",
       "      <td>39000</td>\n",
       "    </tr>\n",
       "    <tr>\n",
       "      <th>985</th>\n",
       "      <td>21</td>\n",
       "      <td>0</td>\n",
       "      <td>0</td>\n",
       "      <td>0</td>\n",
       "      <td>0</td>\n",
       "      <td>158</td>\n",
       "      <td>75</td>\n",
       "      <td>1</td>\n",
       "      <td>0</td>\n",
       "      <td>1</td>\n",
       "      <td>15000</td>\n",
       "    </tr>\n",
       "  </tbody>\n",
       "</table>\n",
       "<p>986 rows × 11 columns</p>\n",
       "</div>"
      ],
      "text/plain": [
       "     Age  Diabetes  BloodPressureProblems  AnyTransplants  AnyChronicDiseases  \\\n",
       "0     45         0                      0               0                   0   \n",
       "1     60         1                      0               0                   0   \n",
       "2     36         1                      1               0                   0   \n",
       "3     52         1                      1               0                   1   \n",
       "4     38         0                      0               0                   1   \n",
       "..   ...       ...                    ...             ...                 ...   \n",
       "981   18         0                      0               0                   0   \n",
       "982   64         1                      1               0                   0   \n",
       "983   56         0                      1               0                   0   \n",
       "984   47         1                      1               0                   0   \n",
       "985   21         0                      0               0                   0   \n",
       "\n",
       "     Height  Weight  KnownAllergies  HistoryOfCancerInFamily  \\\n",
       "0       155      57               0                        0   \n",
       "1       180      73               0                        0   \n",
       "2       158      59               0                        0   \n",
       "3       183      93               0                        0   \n",
       "4       166      88               0                        0   \n",
       "..      ...     ...             ...                      ...   \n",
       "981     169      67               0                        0   \n",
       "982     153      70               0                        0   \n",
       "983     155      71               0                        0   \n",
       "984     158      73               1                        0   \n",
       "985     158      75               1                        0   \n",
       "\n",
       "     NumberOfMajorSurgeries  PremiumPrice  \n",
       "0                         0         25000  \n",
       "1                         0         29000  \n",
       "2                         1         23000  \n",
       "3                         2         28000  \n",
       "4                         1         23000  \n",
       "..                      ...           ...  \n",
       "981                       0         15000  \n",
       "982                       3         28000  \n",
       "983                       1         29000  \n",
       "984                       1         39000  \n",
       "985                       1         15000  \n",
       "\n",
       "[986 rows x 11 columns]"
      ]
     },
     "execution_count": 3,
     "metadata": {},
     "output_type": "execute_result"
    }
   ],
   "source": [
    "# reading data\n",
    "data = pd.read_csv('/kaggle/input/medical-insurance-premium-prediction/Medicalpremium.csv')\n",
    "data"
   ]
  },
  {
   "cell_type": "markdown",
   "id": "52de2dd7",
   "metadata": {
    "papermill": {
     "duration": 0.006004,
     "end_time": "2024-09-21T16:13:58.164738",
     "exception": false,
     "start_time": "2024-09-21T16:13:58.158734",
     "status": "completed"
    },
    "tags": []
   },
   "source": [
    "# Exploratory Data Analysis"
   ]
  },
  {
   "cell_type": "code",
   "execution_count": 4,
   "id": "aba22f0c",
   "metadata": {
    "execution": {
     "iopub.execute_input": "2024-09-21T16:13:58.179842Z",
     "iopub.status.busy": "2024-09-21T16:13:58.179226Z",
     "iopub.status.idle": "2024-09-21T16:13:58.187758Z",
     "shell.execute_reply": "2024-09-21T16:13:58.186758Z"
    },
    "papermill": {
     "duration": 0.01852,
     "end_time": "2024-09-21T16:13:58.189925",
     "exception": false,
     "start_time": "2024-09-21T16:13:58.171405",
     "status": "completed"
    },
    "tags": []
   },
   "outputs": [
    {
     "data": {
      "text/plain": [
       "Age                        int64\n",
       "Diabetes                   int64\n",
       "BloodPressureProblems      int64\n",
       "AnyTransplants             int64\n",
       "AnyChronicDiseases         int64\n",
       "Height                     int64\n",
       "Weight                     int64\n",
       "KnownAllergies             int64\n",
       "HistoryOfCancerInFamily    int64\n",
       "NumberOfMajorSurgeries     int64\n",
       "PremiumPrice               int64\n",
       "dtype: object"
      ]
     },
     "execution_count": 4,
     "metadata": {},
     "output_type": "execute_result"
    }
   ],
   "source": [
    "# check data types\n",
    "data.dtypes"
   ]
  },
  {
   "cell_type": "code",
   "execution_count": 5,
   "id": "f5c3ff4f",
   "metadata": {
    "execution": {
     "iopub.execute_input": "2024-09-21T16:13:58.205578Z",
     "iopub.status.busy": "2024-09-21T16:13:58.205145Z",
     "iopub.status.idle": "2024-09-21T16:13:58.215830Z",
     "shell.execute_reply": "2024-09-21T16:13:58.214631Z"
    },
    "papermill": {
     "duration": 0.021178,
     "end_time": "2024-09-21T16:13:58.218274",
     "exception": false,
     "start_time": "2024-09-21T16:13:58.197096",
     "status": "completed"
    },
    "tags": []
   },
   "outputs": [
    {
     "data": {
      "text/plain": [
       "Age                        0\n",
       "Diabetes                   0\n",
       "BloodPressureProblems      0\n",
       "AnyTransplants             0\n",
       "AnyChronicDiseases         0\n",
       "Height                     0\n",
       "Weight                     0\n",
       "KnownAllergies             0\n",
       "HistoryOfCancerInFamily    0\n",
       "NumberOfMajorSurgeries     0\n",
       "PremiumPrice               0\n",
       "dtype: int64"
      ]
     },
     "execution_count": 5,
     "metadata": {},
     "output_type": "execute_result"
    }
   ],
   "source": [
    "# checking for null values\n",
    "data.isnull().sum()"
   ]
  },
  {
   "cell_type": "code",
   "execution_count": 6,
   "id": "54e387dd",
   "metadata": {
    "execution": {
     "iopub.execute_input": "2024-09-21T16:13:58.234082Z",
     "iopub.status.busy": "2024-09-21T16:13:58.233281Z",
     "iopub.status.idle": "2024-09-21T16:13:58.246843Z",
     "shell.execute_reply": "2024-09-21T16:13:58.245433Z"
    },
    "papermill": {
     "duration": 0.024288,
     "end_time": "2024-09-21T16:13:58.249303",
     "exception": false,
     "start_time": "2024-09-21T16:13:58.225015",
     "status": "completed"
    },
    "tags": []
   },
   "outputs": [
    {
     "data": {
      "text/plain": [
       "0"
      ]
     },
     "execution_count": 6,
     "metadata": {},
     "output_type": "execute_result"
    }
   ],
   "source": [
    "# checking for duplicates\n",
    "data.duplicated().sum()"
   ]
  },
  {
   "cell_type": "code",
   "execution_count": 7,
   "id": "8fd490b9",
   "metadata": {
    "execution": {
     "iopub.execute_input": "2024-09-21T16:13:58.266181Z",
     "iopub.status.busy": "2024-09-21T16:13:58.265753Z",
     "iopub.status.idle": "2024-09-21T16:13:58.284303Z",
     "shell.execute_reply": "2024-09-21T16:13:58.282988Z"
    },
    "papermill": {
     "duration": 0.029784,
     "end_time": "2024-09-21T16:13:58.286788",
     "exception": false,
     "start_time": "2024-09-21T16:13:58.257004",
     "status": "completed"
    },
    "tags": []
   },
   "outputs": [
    {
     "data": {
      "text/html": [
       "<div>\n",
       "<style scoped>\n",
       "    .dataframe tbody tr th:only-of-type {\n",
       "        vertical-align: middle;\n",
       "    }\n",
       "\n",
       "    .dataframe tbody tr th {\n",
       "        vertical-align: top;\n",
       "    }\n",
       "\n",
       "    .dataframe thead th {\n",
       "        text-align: right;\n",
       "    }\n",
       "</style>\n",
       "<table border=\"1\" class=\"dataframe\">\n",
       "  <thead>\n",
       "    <tr style=\"text-align: right;\">\n",
       "      <th></th>\n",
       "      <th>Age</th>\n",
       "      <th>Diabetes</th>\n",
       "      <th>BPProblems</th>\n",
       "      <th>Transplants</th>\n",
       "      <th>Diseases</th>\n",
       "      <th>Height</th>\n",
       "      <th>Weight</th>\n",
       "      <th>Allergies</th>\n",
       "      <th>CancerFHx</th>\n",
       "      <th>Surgeries</th>\n",
       "      <th>Premium</th>\n",
       "    </tr>\n",
       "  </thead>\n",
       "  <tbody>\n",
       "    <tr>\n",
       "      <th>0</th>\n",
       "      <td>45</td>\n",
       "      <td>0</td>\n",
       "      <td>0</td>\n",
       "      <td>0</td>\n",
       "      <td>0</td>\n",
       "      <td>155</td>\n",
       "      <td>57</td>\n",
       "      <td>0</td>\n",
       "      <td>0</td>\n",
       "      <td>0</td>\n",
       "      <td>25000</td>\n",
       "    </tr>\n",
       "    <tr>\n",
       "      <th>1</th>\n",
       "      <td>60</td>\n",
       "      <td>1</td>\n",
       "      <td>0</td>\n",
       "      <td>0</td>\n",
       "      <td>0</td>\n",
       "      <td>180</td>\n",
       "      <td>73</td>\n",
       "      <td>0</td>\n",
       "      <td>0</td>\n",
       "      <td>0</td>\n",
       "      <td>29000</td>\n",
       "    </tr>\n",
       "    <tr>\n",
       "      <th>2</th>\n",
       "      <td>36</td>\n",
       "      <td>1</td>\n",
       "      <td>1</td>\n",
       "      <td>0</td>\n",
       "      <td>0</td>\n",
       "      <td>158</td>\n",
       "      <td>59</td>\n",
       "      <td>0</td>\n",
       "      <td>0</td>\n",
       "      <td>1</td>\n",
       "      <td>23000</td>\n",
       "    </tr>\n",
       "    <tr>\n",
       "      <th>3</th>\n",
       "      <td>52</td>\n",
       "      <td>1</td>\n",
       "      <td>1</td>\n",
       "      <td>0</td>\n",
       "      <td>1</td>\n",
       "      <td>183</td>\n",
       "      <td>93</td>\n",
       "      <td>0</td>\n",
       "      <td>0</td>\n",
       "      <td>2</td>\n",
       "      <td>28000</td>\n",
       "    </tr>\n",
       "    <tr>\n",
       "      <th>4</th>\n",
       "      <td>38</td>\n",
       "      <td>0</td>\n",
       "      <td>0</td>\n",
       "      <td>0</td>\n",
       "      <td>1</td>\n",
       "      <td>166</td>\n",
       "      <td>88</td>\n",
       "      <td>0</td>\n",
       "      <td>0</td>\n",
       "      <td>1</td>\n",
       "      <td>23000</td>\n",
       "    </tr>\n",
       "    <tr>\n",
       "      <th>...</th>\n",
       "      <td>...</td>\n",
       "      <td>...</td>\n",
       "      <td>...</td>\n",
       "      <td>...</td>\n",
       "      <td>...</td>\n",
       "      <td>...</td>\n",
       "      <td>...</td>\n",
       "      <td>...</td>\n",
       "      <td>...</td>\n",
       "      <td>...</td>\n",
       "      <td>...</td>\n",
       "    </tr>\n",
       "    <tr>\n",
       "      <th>981</th>\n",
       "      <td>18</td>\n",
       "      <td>0</td>\n",
       "      <td>0</td>\n",
       "      <td>0</td>\n",
       "      <td>0</td>\n",
       "      <td>169</td>\n",
       "      <td>67</td>\n",
       "      <td>0</td>\n",
       "      <td>0</td>\n",
       "      <td>0</td>\n",
       "      <td>15000</td>\n",
       "    </tr>\n",
       "    <tr>\n",
       "      <th>982</th>\n",
       "      <td>64</td>\n",
       "      <td>1</td>\n",
       "      <td>1</td>\n",
       "      <td>0</td>\n",
       "      <td>0</td>\n",
       "      <td>153</td>\n",
       "      <td>70</td>\n",
       "      <td>0</td>\n",
       "      <td>0</td>\n",
       "      <td>3</td>\n",
       "      <td>28000</td>\n",
       "    </tr>\n",
       "    <tr>\n",
       "      <th>983</th>\n",
       "      <td>56</td>\n",
       "      <td>0</td>\n",
       "      <td>1</td>\n",
       "      <td>0</td>\n",
       "      <td>0</td>\n",
       "      <td>155</td>\n",
       "      <td>71</td>\n",
       "      <td>0</td>\n",
       "      <td>0</td>\n",
       "      <td>1</td>\n",
       "      <td>29000</td>\n",
       "    </tr>\n",
       "    <tr>\n",
       "      <th>984</th>\n",
       "      <td>47</td>\n",
       "      <td>1</td>\n",
       "      <td>1</td>\n",
       "      <td>0</td>\n",
       "      <td>0</td>\n",
       "      <td>158</td>\n",
       "      <td>73</td>\n",
       "      <td>1</td>\n",
       "      <td>0</td>\n",
       "      <td>1</td>\n",
       "      <td>39000</td>\n",
       "    </tr>\n",
       "    <tr>\n",
       "      <th>985</th>\n",
       "      <td>21</td>\n",
       "      <td>0</td>\n",
       "      <td>0</td>\n",
       "      <td>0</td>\n",
       "      <td>0</td>\n",
       "      <td>158</td>\n",
       "      <td>75</td>\n",
       "      <td>1</td>\n",
       "      <td>0</td>\n",
       "      <td>1</td>\n",
       "      <td>15000</td>\n",
       "    </tr>\n",
       "  </tbody>\n",
       "</table>\n",
       "<p>986 rows × 11 columns</p>\n",
       "</div>"
      ],
      "text/plain": [
       "     Age  Diabetes  BPProblems  Transplants  Diseases  Height  Weight  \\\n",
       "0     45         0           0            0         0     155      57   \n",
       "1     60         1           0            0         0     180      73   \n",
       "2     36         1           1            0         0     158      59   \n",
       "3     52         1           1            0         1     183      93   \n",
       "4     38         0           0            0         1     166      88   \n",
       "..   ...       ...         ...          ...       ...     ...     ...   \n",
       "981   18         0           0            0         0     169      67   \n",
       "982   64         1           1            0         0     153      70   \n",
       "983   56         0           1            0         0     155      71   \n",
       "984   47         1           1            0         0     158      73   \n",
       "985   21         0           0            0         0     158      75   \n",
       "\n",
       "     Allergies  CancerFHx  Surgeries  Premium  \n",
       "0            0          0          0    25000  \n",
       "1            0          0          0    29000  \n",
       "2            0          0          1    23000  \n",
       "3            0          0          2    28000  \n",
       "4            0          0          1    23000  \n",
       "..         ...        ...        ...      ...  \n",
       "981          0          0          0    15000  \n",
       "982          0          0          3    28000  \n",
       "983          0          0          1    29000  \n",
       "984          1          0          1    39000  \n",
       "985          1          0          1    15000  \n",
       "\n",
       "[986 rows x 11 columns]"
      ]
     },
     "execution_count": 7,
     "metadata": {},
     "output_type": "execute_result"
    }
   ],
   "source": [
    "# renaming columns for easier reference\n",
    "data = data.rename(columns={\"BloodPressureProblems\":\"BPProblems\", \"AnyTransplants\":\"Transplants\", \"AnyChronicDiseases\":\"Diseases\", \"KnownAllergies\":\"Allergies\", \"HistoryOfCancerInFamily\":\"CancerFHx\", \"NumberOfMajorSurgeries\":\"Surgeries\", \"PremiumPrice\":\"Premium\"})\n",
    "data"
   ]
  },
  {
   "cell_type": "markdown",
   "id": "2e6064ce",
   "metadata": {
    "papermill": {
     "duration": 0.006965,
     "end_time": "2024-09-21T16:13:58.300956",
     "exception": false,
     "start_time": "2024-09-21T16:13:58.293991",
     "status": "completed"
    },
    "tags": []
   },
   "source": [
    "### Checking for outliers"
   ]
  },
  {
   "cell_type": "code",
   "execution_count": 8,
   "id": "52442e8c",
   "metadata": {
    "execution": {
     "iopub.execute_input": "2024-09-21T16:13:58.319746Z",
     "iopub.status.busy": "2024-09-21T16:13:58.318408Z",
     "iopub.status.idle": "2024-09-21T16:13:58.363740Z",
     "shell.execute_reply": "2024-09-21T16:13:58.362212Z"
    },
    "papermill": {
     "duration": 0.058142,
     "end_time": "2024-09-21T16:13:58.366278",
     "exception": false,
     "start_time": "2024-09-21T16:13:58.308136",
     "status": "completed"
    },
    "tags": []
   },
   "outputs": [
    {
     "data": {
      "text/html": [
       "<div>\n",
       "<style scoped>\n",
       "    .dataframe tbody tr th:only-of-type {\n",
       "        vertical-align: middle;\n",
       "    }\n",
       "\n",
       "    .dataframe tbody tr th {\n",
       "        vertical-align: top;\n",
       "    }\n",
       "\n",
       "    .dataframe thead th {\n",
       "        text-align: right;\n",
       "    }\n",
       "</style>\n",
       "<table border=\"1\" class=\"dataframe\">\n",
       "  <thead>\n",
       "    <tr style=\"text-align: right;\">\n",
       "      <th></th>\n",
       "      <th>Age</th>\n",
       "      <th>Diabetes</th>\n",
       "      <th>BPProblems</th>\n",
       "      <th>Transplants</th>\n",
       "      <th>Diseases</th>\n",
       "      <th>Height</th>\n",
       "      <th>Weight</th>\n",
       "      <th>Allergies</th>\n",
       "      <th>CancerFHx</th>\n",
       "      <th>Surgeries</th>\n",
       "      <th>Premium</th>\n",
       "    </tr>\n",
       "  </thead>\n",
       "  <tbody>\n",
       "    <tr>\n",
       "      <th>count</th>\n",
       "      <td>986.000000</td>\n",
       "      <td>986.000000</td>\n",
       "      <td>986.000000</td>\n",
       "      <td>986.000000</td>\n",
       "      <td>986.000000</td>\n",
       "      <td>986.000000</td>\n",
       "      <td>986.000000</td>\n",
       "      <td>986.000000</td>\n",
       "      <td>986.000000</td>\n",
       "      <td>986.000000</td>\n",
       "      <td>986.000000</td>\n",
       "    </tr>\n",
       "    <tr>\n",
       "      <th>mean</th>\n",
       "      <td>41.745436</td>\n",
       "      <td>0.419878</td>\n",
       "      <td>0.468560</td>\n",
       "      <td>0.055781</td>\n",
       "      <td>0.180527</td>\n",
       "      <td>168.182556</td>\n",
       "      <td>76.950304</td>\n",
       "      <td>0.215010</td>\n",
       "      <td>0.117647</td>\n",
       "      <td>0.667343</td>\n",
       "      <td>24336.713996</td>\n",
       "    </tr>\n",
       "    <tr>\n",
       "      <th>std</th>\n",
       "      <td>13.963371</td>\n",
       "      <td>0.493789</td>\n",
       "      <td>0.499264</td>\n",
       "      <td>0.229615</td>\n",
       "      <td>0.384821</td>\n",
       "      <td>10.098155</td>\n",
       "      <td>14.265096</td>\n",
       "      <td>0.411038</td>\n",
       "      <td>0.322353</td>\n",
       "      <td>0.749205</td>\n",
       "      <td>6248.184382</td>\n",
       "    </tr>\n",
       "    <tr>\n",
       "      <th>min</th>\n",
       "      <td>18.000000</td>\n",
       "      <td>0.000000</td>\n",
       "      <td>0.000000</td>\n",
       "      <td>0.000000</td>\n",
       "      <td>0.000000</td>\n",
       "      <td>145.000000</td>\n",
       "      <td>51.000000</td>\n",
       "      <td>0.000000</td>\n",
       "      <td>0.000000</td>\n",
       "      <td>0.000000</td>\n",
       "      <td>15000.000000</td>\n",
       "    </tr>\n",
       "    <tr>\n",
       "      <th>25%</th>\n",
       "      <td>30.000000</td>\n",
       "      <td>0.000000</td>\n",
       "      <td>0.000000</td>\n",
       "      <td>0.000000</td>\n",
       "      <td>0.000000</td>\n",
       "      <td>161.000000</td>\n",
       "      <td>67.000000</td>\n",
       "      <td>0.000000</td>\n",
       "      <td>0.000000</td>\n",
       "      <td>0.000000</td>\n",
       "      <td>21000.000000</td>\n",
       "    </tr>\n",
       "    <tr>\n",
       "      <th>50%</th>\n",
       "      <td>42.000000</td>\n",
       "      <td>0.000000</td>\n",
       "      <td>0.000000</td>\n",
       "      <td>0.000000</td>\n",
       "      <td>0.000000</td>\n",
       "      <td>168.000000</td>\n",
       "      <td>75.000000</td>\n",
       "      <td>0.000000</td>\n",
       "      <td>0.000000</td>\n",
       "      <td>1.000000</td>\n",
       "      <td>23000.000000</td>\n",
       "    </tr>\n",
       "    <tr>\n",
       "      <th>75%</th>\n",
       "      <td>53.000000</td>\n",
       "      <td>1.000000</td>\n",
       "      <td>1.000000</td>\n",
       "      <td>0.000000</td>\n",
       "      <td>0.000000</td>\n",
       "      <td>176.000000</td>\n",
       "      <td>87.000000</td>\n",
       "      <td>0.000000</td>\n",
       "      <td>0.000000</td>\n",
       "      <td>1.000000</td>\n",
       "      <td>28000.000000</td>\n",
       "    </tr>\n",
       "    <tr>\n",
       "      <th>max</th>\n",
       "      <td>66.000000</td>\n",
       "      <td>1.000000</td>\n",
       "      <td>1.000000</td>\n",
       "      <td>1.000000</td>\n",
       "      <td>1.000000</td>\n",
       "      <td>188.000000</td>\n",
       "      <td>132.000000</td>\n",
       "      <td>1.000000</td>\n",
       "      <td>1.000000</td>\n",
       "      <td>3.000000</td>\n",
       "      <td>40000.000000</td>\n",
       "    </tr>\n",
       "  </tbody>\n",
       "</table>\n",
       "</div>"
      ],
      "text/plain": [
       "              Age    Diabetes  BPProblems  Transplants    Diseases  \\\n",
       "count  986.000000  986.000000  986.000000   986.000000  986.000000   \n",
       "mean    41.745436    0.419878    0.468560     0.055781    0.180527   \n",
       "std     13.963371    0.493789    0.499264     0.229615    0.384821   \n",
       "min     18.000000    0.000000    0.000000     0.000000    0.000000   \n",
       "25%     30.000000    0.000000    0.000000     0.000000    0.000000   \n",
       "50%     42.000000    0.000000    0.000000     0.000000    0.000000   \n",
       "75%     53.000000    1.000000    1.000000     0.000000    0.000000   \n",
       "max     66.000000    1.000000    1.000000     1.000000    1.000000   \n",
       "\n",
       "           Height      Weight   Allergies   CancerFHx   Surgeries  \\\n",
       "count  986.000000  986.000000  986.000000  986.000000  986.000000   \n",
       "mean   168.182556   76.950304    0.215010    0.117647    0.667343   \n",
       "std     10.098155   14.265096    0.411038    0.322353    0.749205   \n",
       "min    145.000000   51.000000    0.000000    0.000000    0.000000   \n",
       "25%    161.000000   67.000000    0.000000    0.000000    0.000000   \n",
       "50%    168.000000   75.000000    0.000000    0.000000    1.000000   \n",
       "75%    176.000000   87.000000    0.000000    0.000000    1.000000   \n",
       "max    188.000000  132.000000    1.000000    1.000000    3.000000   \n",
       "\n",
       "            Premium  \n",
       "count    986.000000  \n",
       "mean   24336.713996  \n",
       "std     6248.184382  \n",
       "min    15000.000000  \n",
       "25%    21000.000000  \n",
       "50%    23000.000000  \n",
       "75%    28000.000000  \n",
       "max    40000.000000  "
      ]
     },
     "execution_count": 8,
     "metadata": {},
     "output_type": "execute_result"
    }
   ],
   "source": [
    "# roughly checking for possible outliers numerically\n",
    "data.describe()"
   ]
  },
  {
   "cell_type": "code",
   "execution_count": 9,
   "id": "9331216c",
   "metadata": {
    "execution": {
     "iopub.execute_input": "2024-09-21T16:13:58.383136Z",
     "iopub.status.busy": "2024-09-21T16:13:58.382181Z",
     "iopub.status.idle": "2024-09-21T16:13:58.598093Z",
     "shell.execute_reply": "2024-09-21T16:13:58.596419Z"
    },
    "papermill": {
     "duration": 0.226724,
     "end_time": "2024-09-21T16:13:58.600362",
     "exception": false,
     "start_time": "2024-09-21T16:13:58.373638",
     "status": "completed"
    },
    "tags": []
   },
   "outputs": [
    {
     "data": {
      "image/png": "[encoded data removed]",
      "text/plain": [
       "<Figure size 640x480 with 1 Axes>"
      ]
     },
     "metadata": {},
     "output_type": "display_data"
    }
   ],
   "source": [
    "# checking for outliers graphically\n",
    "plt.boxplot(data['Weight'])\n",
    "plt.show()"
   ]
  },
  {
   "cell_type": "code",
   "execution_count": 10,
   "id": "c931418e",
   "metadata": {
    "execution": {
     "iopub.execute_input": "2024-09-21T16:13:58.617713Z",
     "iopub.status.busy": "2024-09-21T16:13:58.617280Z",
     "iopub.status.idle": "2024-09-21T16:13:58.790283Z",
     "shell.execute_reply": "2024-09-21T16:13:58.789074Z"
    },
    "papermill": {
     "duration": 0.184454,
     "end_time": "2024-09-21T16:13:58.792627",
     "exception": false,
     "start_time": "2024-09-21T16:13:58.608173",
     "status": "completed"
    },
    "tags": []
   },
   "outputs": [
    {
     "data": {
      "image/png": "[encoded data removed]",
      "text/plain": [
       "<Figure size 640x480 with 1 Axes>"
      ]
     },
     "metadata": {},
     "output_type": "display_data"
    }
   ],
   "source": [
    "plt.boxplot(data['Premium'])\n",
    "plt.show()"
   ]
  },
  {
   "cell_type": "markdown",
   "id": "f06fdf2a",
   "metadata": {
    "papermill": {
     "duration": 0.007673,
     "end_time": "2024-09-21T16:13:58.808190",
     "exception": false,
     "start_time": "2024-09-21T16:13:58.800517",
     "status": "completed"
    },
    "tags": []
   },
   "source": [
    "### Removing outliers"
   ]
  },
  {
   "cell_type": "code",
   "execution_count": 11,
   "id": "ae9ddeab",
   "metadata": {
    "execution": {
     "iopub.execute_input": "2024-09-21T16:13:58.826410Z",
     "iopub.status.busy": "2024-09-21T16:13:58.825421Z",
     "iopub.status.idle": "2024-09-21T16:13:58.843025Z",
     "shell.execute_reply": "2024-09-21T16:13:58.841850Z"
    },
    "papermill": {
     "duration": 0.029381,
     "end_time": "2024-09-21T16:13:58.845418",
     "exception": false,
     "start_time": "2024-09-21T16:13:58.816037",
     "status": "completed"
    },
    "tags": []
   },
   "outputs": [
    {
     "data": {
      "text/html": [
       "<div>\n",
       "<style scoped>\n",
       "    .dataframe tbody tr th:only-of-type {\n",
       "        vertical-align: middle;\n",
       "    }\n",
       "\n",
       "    .dataframe tbody tr th {\n",
       "        vertical-align: top;\n",
       "    }\n",
       "\n",
       "    .dataframe thead th {\n",
       "        text-align: right;\n",
       "    }\n",
       "</style>\n",
       "<table border=\"1\" class=\"dataframe\">\n",
       "  <thead>\n",
       "    <tr style=\"text-align: right;\">\n",
       "      <th></th>\n",
       "      <th>Age</th>\n",
       "      <th>Height</th>\n",
       "      <th>Weight</th>\n",
       "      <th>Surgeries</th>\n",
       "      <th>Premium</th>\n",
       "      <th>index</th>\n",
       "    </tr>\n",
       "  </thead>\n",
       "  <tbody>\n",
       "    <tr>\n",
       "      <th>0</th>\n",
       "      <td>45</td>\n",
       "      <td>155</td>\n",
       "      <td>57</td>\n",
       "      <td>0</td>\n",
       "      <td>25000</td>\n",
       "      <td>0</td>\n",
       "    </tr>\n",
       "    <tr>\n",
       "      <th>1</th>\n",
       "      <td>60</td>\n",
       "      <td>180</td>\n",
       "      <td>73</td>\n",
       "      <td>0</td>\n",
       "      <td>29000</td>\n",
       "      <td>1</td>\n",
       "    </tr>\n",
       "    <tr>\n",
       "      <th>2</th>\n",
       "      <td>36</td>\n",
       "      <td>158</td>\n",
       "      <td>59</td>\n",
       "      <td>1</td>\n",
       "      <td>23000</td>\n",
       "      <td>2</td>\n",
       "    </tr>\n",
       "    <tr>\n",
       "      <th>3</th>\n",
       "      <td>52</td>\n",
       "      <td>183</td>\n",
       "      <td>93</td>\n",
       "      <td>2</td>\n",
       "      <td>28000</td>\n",
       "      <td>3</td>\n",
       "    </tr>\n",
       "    <tr>\n",
       "      <th>4</th>\n",
       "      <td>38</td>\n",
       "      <td>166</td>\n",
       "      <td>88</td>\n",
       "      <td>1</td>\n",
       "      <td>23000</td>\n",
       "      <td>4</td>\n",
       "    </tr>\n",
       "  </tbody>\n",
       "</table>\n",
       "</div>"
      ],
      "text/plain": [
       "   Age  Height  Weight  Surgeries  Premium  index\n",
       "0   45     155      57          0    25000      0\n",
       "1   60     180      73          0    29000      1\n",
       "2   36     158      59          1    23000      2\n",
       "3   52     183      93          2    28000      3\n",
       "4   38     166      88          1    23000      4"
      ]
     },
     "execution_count": 11,
     "metadata": {},
     "output_type": "execute_result"
    }
   ],
   "source": [
    "# adding index column to track rows removed\n",
    "new_data = data.copy()\n",
    "new_data['index'] = range(len(new_data))\n",
    "\n",
    "# separating binary variables from continuous variables\n",
    "bi_data = new_data.loc[:, ['index', 'Diabetes', 'BPProblems', 'Transplants', 'Diseases', 'Allergies', 'CancerFHx']]\n",
    "bi_data.head()\n",
    "\n",
    "# dropping binary data columns to use for removing outliers\n",
    "new_data = new_data.drop(['Diabetes', 'BPProblems', 'Transplants', 'Diseases', 'Allergies', 'CancerFHx'], axis=1)\n",
    "new_data.head()"
   ]
  },
  {
   "cell_type": "code",
   "execution_count": 12,
   "id": "f6f1d1ce",
   "metadata": {
    "execution": {
     "iopub.execute_input": "2024-09-21T16:13:58.863977Z",
     "iopub.status.busy": "2024-09-21T16:13:58.863080Z",
     "iopub.status.idle": "2024-09-21T16:13:58.893671Z",
     "shell.execute_reply": "2024-09-21T16:13:58.892450Z"
    },
    "papermill": {
     "duration": 0.042398,
     "end_time": "2024-09-21T16:13:58.895986",
     "exception": false,
     "start_time": "2024-09-21T16:13:58.853588",
     "status": "completed"
    },
    "tags": []
   },
   "outputs": [
    {
     "data": {
      "text/html": [
       "<div>\n",
       "<style scoped>\n",
       "    .dataframe tbody tr th:only-of-type {\n",
       "        vertical-align: middle;\n",
       "    }\n",
       "\n",
       "    .dataframe tbody tr th {\n",
       "        vertical-align: top;\n",
       "    }\n",
       "\n",
       "    .dataframe thead th {\n",
       "        text-align: right;\n",
       "    }\n",
       "</style>\n",
       "<table border=\"1\" class=\"dataframe\">\n",
       "  <thead>\n",
       "    <tr style=\"text-align: right;\">\n",
       "      <th></th>\n",
       "      <th>Age</th>\n",
       "      <th>Height</th>\n",
       "      <th>Weight</th>\n",
       "      <th>Surgeries</th>\n",
       "      <th>Premium</th>\n",
       "      <th>index</th>\n",
       "    </tr>\n",
       "  </thead>\n",
       "  <tbody>\n",
       "    <tr>\n",
       "      <th>count</th>\n",
       "      <td>949.000000</td>\n",
       "      <td>949.000000</td>\n",
       "      <td>949.000000</td>\n",
       "      <td>949.000000</td>\n",
       "      <td>949.000000</td>\n",
       "      <td>949.000000</td>\n",
       "    </tr>\n",
       "    <tr>\n",
       "      <th>mean</th>\n",
       "      <td>41.478398</td>\n",
       "      <td>168.208641</td>\n",
       "      <td>76.146470</td>\n",
       "      <td>0.626976</td>\n",
       "      <td>24185.458377</td>\n",
       "      <td>495.123288</td>\n",
       "    </tr>\n",
       "    <tr>\n",
       "      <th>std</th>\n",
       "      <td>13.701797</td>\n",
       "      <td>10.143105</td>\n",
       "      <td>13.028719</td>\n",
       "      <td>0.691990</td>\n",
       "      <td>6160.764594</td>\n",
       "      <td>283.023240</td>\n",
       "    </tr>\n",
       "    <tr>\n",
       "      <th>min</th>\n",
       "      <td>18.000000</td>\n",
       "      <td>145.000000</td>\n",
       "      <td>51.000000</td>\n",
       "      <td>0.000000</td>\n",
       "      <td>15000.000000</td>\n",
       "      <td>0.000000</td>\n",
       "    </tr>\n",
       "    <tr>\n",
       "      <th>25%</th>\n",
       "      <td>30.000000</td>\n",
       "      <td>161.000000</td>\n",
       "      <td>67.000000</td>\n",
       "      <td>0.000000</td>\n",
       "      <td>21000.000000</td>\n",
       "      <td>256.000000</td>\n",
       "    </tr>\n",
       "    <tr>\n",
       "      <th>50%</th>\n",
       "      <td>42.000000</td>\n",
       "      <td>168.000000</td>\n",
       "      <td>75.000000</td>\n",
       "      <td>1.000000</td>\n",
       "      <td>23000.000000</td>\n",
       "      <td>500.000000</td>\n",
       "    </tr>\n",
       "    <tr>\n",
       "      <th>75%</th>\n",
       "      <td>52.000000</td>\n",
       "      <td>176.000000</td>\n",
       "      <td>86.000000</td>\n",
       "      <td>1.000000</td>\n",
       "      <td>28000.000000</td>\n",
       "      <td>738.000000</td>\n",
       "    </tr>\n",
       "    <tr>\n",
       "      <th>max</th>\n",
       "      <td>66.000000</td>\n",
       "      <td>188.000000</td>\n",
       "      <td>116.000000</td>\n",
       "      <td>2.000000</td>\n",
       "      <td>38000.000000</td>\n",
       "      <td>985.000000</td>\n",
       "    </tr>\n",
       "  </tbody>\n",
       "</table>\n",
       "</div>"
      ],
      "text/plain": [
       "              Age      Height      Weight   Surgeries       Premium  \\\n",
       "count  949.000000  949.000000  949.000000  949.000000    949.000000   \n",
       "mean    41.478398  168.208641   76.146470    0.626976  24185.458377   \n",
       "std     13.701797   10.143105   13.028719    0.691990   6160.764594   \n",
       "min     18.000000  145.000000   51.000000    0.000000  15000.000000   \n",
       "25%     30.000000  161.000000   67.000000    0.000000  21000.000000   \n",
       "50%     42.000000  168.000000   75.000000    1.000000  23000.000000   \n",
       "75%     52.000000  176.000000   86.000000    1.000000  28000.000000   \n",
       "max     66.000000  188.000000  116.000000    2.000000  38000.000000   \n",
       "\n",
       "            index  \n",
       "count  949.000000  \n",
       "mean   495.123288  \n",
       "std    283.023240  \n",
       "min      0.000000  \n",
       "25%    256.000000  \n",
       "50%    500.000000  \n",
       "75%    738.000000  \n",
       "max    985.000000  "
      ]
     },
     "execution_count": 12,
     "metadata": {},
     "output_type": "execute_result"
    }
   ],
   "source": [
    "# removing outliers using IQR\n",
    "Q1 = new_data.quantile(0.25)\n",
    "Q3 = new_data.quantile(0.75)\n",
    "IQR = Q3 - Q1\n",
    "\n",
    "new_data = new_data[~((new_data < (Q1 - 1.5 * IQR)) | (new_data > (Q3 + 1.5 * IQR))).any(axis=1)]\n",
    "\n",
    "# confirming outliers removed\n",
    "new_data.describe()"
   ]
  },
  {
   "cell_type": "code",
   "execution_count": 13,
   "id": "e99f77eb",
   "metadata": {
    "execution": {
     "iopub.execute_input": "2024-09-21T16:13:58.915863Z",
     "iopub.status.busy": "2024-09-21T16:13:58.914833Z",
     "iopub.status.idle": "2024-09-21T16:13:58.964459Z",
     "shell.execute_reply": "2024-09-21T16:13:58.963360Z"
    },
    "papermill": {
     "duration": 0.062574,
     "end_time": "2024-09-21T16:13:58.967055",
     "exception": false,
     "start_time": "2024-09-21T16:13:58.904481",
     "status": "completed"
    },
    "tags": []
   },
   "outputs": [
    {
     "data": {
      "text/html": [
       "<div>\n",
       "<style scoped>\n",
       "    .dataframe tbody tr th:only-of-type {\n",
       "        vertical-align: middle;\n",
       "    }\n",
       "\n",
       "    .dataframe tbody tr th {\n",
       "        vertical-align: top;\n",
       "    }\n",
       "\n",
       "    .dataframe thead th {\n",
       "        text-align: right;\n",
       "    }\n",
       "</style>\n",
       "<table border=\"1\" class=\"dataframe\">\n",
       "  <thead>\n",
       "    <tr style=\"text-align: right;\">\n",
       "      <th></th>\n",
       "      <th>Age</th>\n",
       "      <th>Height</th>\n",
       "      <th>Weight</th>\n",
       "      <th>Surgeries</th>\n",
       "      <th>Premium</th>\n",
       "      <th>Diabetes</th>\n",
       "      <th>BPProblems</th>\n",
       "      <th>Transplants</th>\n",
       "      <th>Diseases</th>\n",
       "      <th>Allergies</th>\n",
       "      <th>CancerFHx</th>\n",
       "    </tr>\n",
       "  </thead>\n",
       "  <tbody>\n",
       "    <tr>\n",
       "      <th>count</th>\n",
       "      <td>949.000000</td>\n",
       "      <td>949.000000</td>\n",
       "      <td>949.000000</td>\n",
       "      <td>949.000000</td>\n",
       "      <td>949.000000</td>\n",
       "      <td>949.000000</td>\n",
       "      <td>949.000000</td>\n",
       "      <td>949.000000</td>\n",
       "      <td>949.000000</td>\n",
       "      <td>949.000000</td>\n",
       "      <td>949.000000</td>\n",
       "    </tr>\n",
       "    <tr>\n",
       "      <th>mean</th>\n",
       "      <td>41.478398</td>\n",
       "      <td>168.208641</td>\n",
       "      <td>76.146470</td>\n",
       "      <td>0.626976</td>\n",
       "      <td>24185.458377</td>\n",
       "      <td>0.415174</td>\n",
       "      <td>0.469968</td>\n",
       "      <td>0.055848</td>\n",
       "      <td>0.185458</td>\n",
       "      <td>0.218124</td>\n",
       "      <td>0.119073</td>\n",
       "    </tr>\n",
       "    <tr>\n",
       "      <th>std</th>\n",
       "      <td>13.701797</td>\n",
       "      <td>10.143105</td>\n",
       "      <td>13.028719</td>\n",
       "      <td>0.691990</td>\n",
       "      <td>6160.764594</td>\n",
       "      <td>0.493012</td>\n",
       "      <td>0.499360</td>\n",
       "      <td>0.229750</td>\n",
       "      <td>0.388874</td>\n",
       "      <td>0.413190</td>\n",
       "      <td>0.324045</td>\n",
       "    </tr>\n",
       "    <tr>\n",
       "      <th>min</th>\n",
       "      <td>18.000000</td>\n",
       "      <td>145.000000</td>\n",
       "      <td>51.000000</td>\n",
       "      <td>0.000000</td>\n",
       "      <td>15000.000000</td>\n",
       "      <td>0.000000</td>\n",
       "      <td>0.000000</td>\n",
       "      <td>0.000000</td>\n",
       "      <td>0.000000</td>\n",
       "      <td>0.000000</td>\n",
       "      <td>0.000000</td>\n",
       "    </tr>\n",
       "    <tr>\n",
       "      <th>25%</th>\n",
       "      <td>30.000000</td>\n",
       "      <td>161.000000</td>\n",
       "      <td>67.000000</td>\n",
       "      <td>0.000000</td>\n",
       "      <td>21000.000000</td>\n",
       "      <td>0.000000</td>\n",
       "      <td>0.000000</td>\n",
       "      <td>0.000000</td>\n",
       "      <td>0.000000</td>\n",
       "      <td>0.000000</td>\n",
       "      <td>0.000000</td>\n",
       "    </tr>\n",
       "    <tr>\n",
       "      <th>50%</th>\n",
       "      <td>42.000000</td>\n",
       "      <td>168.000000</td>\n",
       "      <td>75.000000</td>\n",
       "      <td>1.000000</td>\n",
       "      <td>23000.000000</td>\n",
       "      <td>0.000000</td>\n",
       "      <td>0.000000</td>\n",
       "      <td>0.000000</td>\n",
       "      <td>0.000000</td>\n",
       "      <td>0.000000</td>\n",
       "      <td>0.000000</td>\n",
       "    </tr>\n",
       "    <tr>\n",
       "      <th>75%</th>\n",
       "      <td>52.000000</td>\n",
       "      <td>176.000000</td>\n",
       "      <td>86.000000</td>\n",
       "      <td>1.000000</td>\n",
       "      <td>28000.000000</td>\n",
       "      <td>1.000000</td>\n",
       "      <td>1.000000</td>\n",
       "      <td>0.000000</td>\n",
       "      <td>0.000000</td>\n",
       "      <td>0.000000</td>\n",
       "      <td>0.000000</td>\n",
       "    </tr>\n",
       "    <tr>\n",
       "      <th>max</th>\n",
       "      <td>66.000000</td>\n",
       "      <td>188.000000</td>\n",
       "      <td>116.000000</td>\n",
       "      <td>2.000000</td>\n",
       "      <td>38000.000000</td>\n",
       "      <td>1.000000</td>\n",
       "      <td>1.000000</td>\n",
       "      <td>1.000000</td>\n",
       "      <td>1.000000</td>\n",
       "      <td>1.000000</td>\n",
       "      <td>1.000000</td>\n",
       "    </tr>\n",
       "  </tbody>\n",
       "</table>\n",
       "</div>"
      ],
      "text/plain": [
       "              Age      Height      Weight   Surgeries       Premium  \\\n",
       "count  949.000000  949.000000  949.000000  949.000000    949.000000   \n",
       "mean    41.478398  168.208641   76.146470    0.626976  24185.458377   \n",
       "std     13.701797   10.143105   13.028719    0.691990   6160.764594   \n",
       "min     18.000000  145.000000   51.000000    0.000000  15000.000000   \n",
       "25%     30.000000  161.000000   67.000000    0.000000  21000.000000   \n",
       "50%     42.000000  168.000000   75.000000    1.000000  23000.000000   \n",
       "75%     52.000000  176.000000   86.000000    1.000000  28000.000000   \n",
       "max     66.000000  188.000000  116.000000    2.000000  38000.000000   \n",
       "\n",
       "         Diabetes  BPProblems  Transplants    Diseases   Allergies   CancerFHx  \n",
       "count  949.000000  949.000000   949.000000  949.000000  949.000000  949.000000  \n",
       "mean     0.415174    0.469968     0.055848    0.185458    0.218124    0.119073  \n",
       "std      0.493012    0.499360     0.229750    0.388874    0.413190    0.324045  \n",
       "min      0.000000    0.000000     0.000000    0.000000    0.000000    0.000000  \n",
       "25%      0.000000    0.000000     0.000000    0.000000    0.000000    0.000000  \n",
       "50%      0.000000    0.000000     0.000000    0.000000    0.000000    0.000000  \n",
       "75%      1.000000    1.000000     0.000000    0.000000    0.000000    0.000000  \n",
       "max      1.000000    1.000000     1.000000    1.000000    1.000000    1.000000  "
      ]
     },
     "execution_count": 13,
     "metadata": {},
     "output_type": "execute_result"
    }
   ],
   "source": [
    "# concatenating the dataframes with inner join along index column to remove outlier rows from bi_data\n",
    "df = pd.concat([new_data, bi_data], axis=1, join='inner')\n",
    "\n",
    "# dropping index column\n",
    "df = df.drop(['index'], axis=1)\n",
    "df.describe()"
   ]
  },
  {
   "cell_type": "markdown",
   "id": "2de61ce6",
   "metadata": {
    "papermill": {
     "duration": 0.008391,
     "end_time": "2024-09-21T16:13:58.984651",
     "exception": false,
     "start_time": "2024-09-21T16:13:58.976260",
     "status": "completed"
    },
    "tags": []
   },
   "source": [
    "### Correlation heatmap"
   ]
  },
  {
   "cell_type": "code",
   "execution_count": 14,
   "id": "0ef77647",
   "metadata": {
    "execution": {
     "iopub.execute_input": "2024-09-21T16:13:59.004466Z",
     "iopub.status.busy": "2024-09-21T16:13:59.003449Z",
     "iopub.status.idle": "2024-09-21T16:13:59.696308Z",
     "shell.execute_reply": "2024-09-21T16:13:59.695099Z"
    },
    "papermill": {
     "duration": 0.707067,
     "end_time": "2024-09-21T16:13:59.700282",
     "exception": false,
     "start_time": "2024-09-21T16:13:58.993215",
     "status": "completed"
    },
    "tags": []
   },
   "outputs": [
    {
     "data": {
      "image/png": "[encoded data removed]",
      "text/plain": [
       "<Figure size 1400x800 with 2 Axes>"
      ]
     },
     "metadata": {},
     "output_type": "display_data"
    }
   ],
   "source": [
    "plt.figure(figsize=(14,8))\n",
    "sns.heatmap(df.corr(), annot=True, cmap='coolwarm', linewidths=0.1)\n",
    "plt.title(\"Correlation heatmap between variables\")\n",
    "plt.show()"
   ]
  },
  {
   "cell_type": "markdown",
   "id": "c21cd674",
   "metadata": {
    "papermill": {
     "duration": 0.010704,
     "end_time": "2024-09-21T16:13:59.723150",
     "exception": false,
     "start_time": "2024-09-21T16:13:59.712446",
     "status": "completed"
    },
    "tags": []
   },
   "source": [
    "# Modeling"
   ]
  },
  {
   "cell_type": "code",
   "execution_count": 15,
   "id": "6797e522",
   "metadata": {
    "execution": {
     "iopub.execute_input": "2024-09-21T16:13:59.747043Z",
     "iopub.status.busy": "2024-09-21T16:13:59.746621Z",
     "iopub.status.idle": "2024-09-21T16:13:59.757129Z",
     "shell.execute_reply": "2024-09-21T16:13:59.755947Z"
    },
    "papermill": {
     "duration": 0.024814,
     "end_time": "2024-09-21T16:13:59.759270",
     "exception": false,
     "start_time": "2024-09-21T16:13:59.734456",
     "status": "completed"
    },
    "tags": []
   },
   "outputs": [],
   "source": [
    "# set features and prediction target\n",
    "X = df.drop('Premium', axis=1)\n",
    "y = df['Premium']\n",
    "\n",
    "# split into testing and training data\n",
    "X_train, X_test, y_train, y_test = train_test_split(X, y, random_state=42)"
   ]
  },
  {
   "cell_type": "markdown",
   "id": "0145bba9",
   "metadata": {
    "papermill": {
     "duration": 0.010454,
     "end_time": "2024-09-21T16:13:59.780481",
     "exception": false,
     "start_time": "2024-09-21T16:13:59.770027",
     "status": "completed"
    },
    "tags": []
   },
   "source": [
    "### Determing model accuracy to decide on which model(s) to use"
   ]
  },
  {
   "cell_type": "code",
   "execution_count": 16,
   "id": "e2d7d1bc",
   "metadata": {
    "execution": {
     "iopub.execute_input": "2024-09-21T16:13:59.803775Z",
     "iopub.status.busy": "2024-09-21T16:13:59.803332Z",
     "iopub.status.idle": "2024-09-21T16:14:00.199697Z",
     "shell.execute_reply": "2024-09-21T16:14:00.198280Z"
    },
    "papermill": {
     "duration": 0.411048,
     "end_time": "2024-09-21T16:14:00.202293",
     "exception": false,
     "start_time": "2024-09-21T16:13:59.791245",
     "status": "completed"
    },
    "tags": []
   },
   "outputs": [
    {
     "name": "stdout",
     "output_type": "stream",
     "text": [
      "Linear Regression accuracy:  65.68982111098293 %\n",
      "Lasso accuracy:  65.70028390988158 %\n",
      "Ridge accuracy:  65.61546775042974 %\n",
      "XGBoost Regressor accuracy:  74.20484202340003 %\n",
      "Random Forest accuracy:  75.06419498796505 %\n"
     ]
    }
   ],
   "source": [
    "models = { LinearRegression():'Linear Regression', Lasso():'Lasso', Ridge():'Ridge', XGBRFRegressor():'XGBoost Regressor', RandomForestRegressor():'Random Forest'}\n",
    "\n",
    "# fitting data for each model\n",
    "for m in models.keys():\n",
    "    m.fit(X_train, y_train)\n",
    "    \n",
    "# printing accuracy score for each model\n",
    "for model, name in models.items():\n",
    "    score = model.score(X_test, y_test)*100\n",
    "    print(f\"{name} accuracy: \", score, \"%\")"
   ]
  },
  {
   "cell_type": "markdown",
   "id": "816eb4e6",
   "metadata": {
    "papermill": {
     "duration": 0.011907,
     "end_time": "2024-09-21T16:14:00.225866",
     "exception": false,
     "start_time": "2024-09-21T16:14:00.213959",
     "status": "completed"
    },
    "tags": []
   },
   "source": [
    "### Random Forest Model"
   ]
  },
  {
   "cell_type": "code",
   "execution_count": 17,
   "id": "060448cc",
   "metadata": {
    "execution": {
     "iopub.execute_input": "2024-09-21T16:14:00.250757Z",
     "iopub.status.busy": "2024-09-21T16:14:00.249796Z",
     "iopub.status.idle": "2024-09-21T16:14:00.776214Z",
     "shell.execute_reply": "2024-09-21T16:14:00.775072Z"
    },
    "papermill": {
     "duration": 0.542207,
     "end_time": "2024-09-21T16:14:00.779237",
     "exception": false,
     "start_time": "2024-09-21T16:14:00.237030",
     "status": "completed"
    },
    "tags": []
   },
   "outputs": [
    {
     "data": {
      "image/png": "[encoded data removed]",
      "text/plain": [
       "<Figure size 640x480 with 1 Axes>"
      ]
     },
     "metadata": {},
     "output_type": "display_data"
    }
   ],
   "source": [
    "rand_forest = RandomForestRegressor()\n",
    "rand_forest.fit(X_train, y_train)\n",
    "rf_feat_import = rand_forest.feature_importances_\n",
    "\n",
    "# graphing feature importances\n",
    "sns.barplot(x=rf_feat_import, y=X.columns)\n",
    "plt.title('Feature Importances')\n",
    "plt.xlabel('Scores')\n",
    "plt.ylabel('Features')\n",
    "plt.show()"
   ]
  },
  {
   "cell_type": "markdown",
   "id": "7889c44e",
   "metadata": {
    "papermill": {
     "duration": 0.010947,
     "end_time": "2024-09-21T16:14:00.801961",
     "exception": false,
     "start_time": "2024-09-21T16:14:00.791014",
     "status": "completed"
    },
    "tags": []
   },
   "source": [
    "### XGBoost Regressor"
   ]
  },
  {
   "cell_type": "code",
   "execution_count": 18,
   "id": "2044d550",
   "metadata": {
    "execution": {
     "iopub.execute_input": "2024-09-21T16:14:00.827221Z",
     "iopub.status.busy": "2024-09-21T16:14:00.826384Z",
     "iopub.status.idle": "2024-09-21T16:14:01.264888Z",
     "shell.execute_reply": "2024-09-21T16:14:01.263648Z"
    },
    "papermill": {
     "duration": 0.453919,
     "end_time": "2024-09-21T16:14:01.267382",
     "exception": false,
     "start_time": "2024-09-21T16:14:00.813463",
     "status": "completed"
    },
    "tags": []
   },
   "outputs": [
    {
     "data": {
      "image/png": "[encoded data removed]",
      "text/plain": [
       "<Figure size 640x480 with 1 Axes>"
      ]
     },
     "metadata": {},
     "output_type": "display_data"
    }
   ],
   "source": [
    "xgb = XGBRFRegressor()\n",
    "xgb.fit(X_train, y_train)\n",
    "xgb_feat = xgb.feature_importances_\n",
    "sns.barplot(x=xgb_feat, y=X.columns)\n",
    "plt.title('Feature Importances')\n",
    "plt.xlabel('Scores')\n",
    "plt.ylabel('Features')\n",
    "plt.show()"
   ]
  }
 ],
 "metadata": {
  "kaggle": {
   "accelerator": "none",
   "dataSources": [
    {
     "datasetId": 1507683,
     "sourceId": 2497017,
     "sourceType": "datasetVersion"
    }
   ],
   "dockerImageVersionId": 30761,
   "isGpuEnabled": false,
   "isInternetEnabled": true,
   "language": "python",
   "sourceType": "notebook"
  },
  "kernelspec": {
   "display_name": "Python 3",
   "language": "python",
   "name": "python3"
  },
  "language_info": {
   "codemirror_mode": {
    "name": "ipython",
    "version": 3
   },
   "file_extension": ".py",
   "mimetype": "text/x-python",
   "name": "python",
   "nbconvert_exporter": "python",
   "pygments_lexer": "ipython3",
   "version": "3.10.14"
  },
  "papermill": {
   "default_parameters": {},
   "duration": 9.864341,
   "end_time": "2024-09-21T16:14:02.001267",
   "environment_variables": {},
   "exception": null,
   "input_path": "__notebook__.ipynb",
   "output_path": "__notebook__.ipynb",
   "parameters": {},
   "start_time": "2024-09-21T16:13:52.136926",
   "version": "2.6.0"
  }
 },
 "nbformat": 4,
 "nbformat_minor": 5
}
